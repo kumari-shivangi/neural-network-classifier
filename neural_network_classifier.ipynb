{
  "nbformat": 4,
  "nbformat_minor": 0,
  "metadata": {
    "colab": {
      "provenance": []
    },
    "kernelspec": {
      "name": "python3",
      "display_name": "Python 3"
    },
    "language_info": {
      "name": "python"
    }
  },
  "cells": [
    {
      "cell_type": "markdown",
      "source": [
        "# Assignment 4 - Neural Network for Image Recognition of A, B, and C\n",
        "\n",
        "## Objective\n",
        "In this project, we will build a **neural network from scratch** using only NumPy to recognize letters **A, B, and C** from synthetic image data.\n",
        "\n",
        "- Input images: 5×6 grid (30 pixels), binary encoded (0/1).\n",
        "- Classes: A, B, C.\n",
        "- Neural network:\n",
        "  - Input layer (30 neurons)\n",
        "  - One hidden layer (e.g., 16 neurons, sigmoid activation)\n",
        "  - Output layer (3 neurons, softmax)\n",
        "\n",
        "We will train using **backpropagation** and **gradient descent**, visualize the **loss curve**, and test predictions with `matplotlib`.\n"
      ],
      "metadata": {
        "id": "7qLXbxaoqMQq"
      }
    },
    {
      "cell_type": "code",
      "execution_count": 1,
      "metadata": {
        "id": "dxRRk8OaqKkH"
      },
      "outputs": [],
      "source": [
        "import numpy as np\n",
        "import matplotlib.pyplot as plt\n"
      ]
    },
    {
      "cell_type": "code",
      "source": [
        "# Function to plot letter images\n",
        "def plot_letter(pattern, title=\"Letter\"):\n",
        "    plt.imshow(pattern.reshape(5,6), cmap=\"gray\")\n",
        "    plt.title(title)\n",
        "    plt.axis(\"off\")\n",
        "    plt.show()\n",
        "\n",
        "# Define binary patterns (5x6 = 30 pixels)\n",
        "A = np.array([\n",
        "    [0,1,1,1,0,0],\n",
        "    [1,0,0,0,1,0],\n",
        "    [1,1,1,1,1,0],\n",
        "    [1,0,0,0,1,0],\n",
        "    [1,0,0,0,1,0]\n",
        "]).reshape(-1)\n",
        "\n",
        "B = np.array([\n",
        "    [1,1,1,0,0,0],\n",
        "    [1,0,0,1,0,0],\n",
        "    [1,1,1,0,0,0],\n",
        "    [1,0,0,1,0,0],\n",
        "    [1,1,1,0,0,0]\n",
        "]).reshape(-1)\n",
        "\n",
        "C = np.array([\n",
        "    [0,1,1,1,0,0],\n",
        "    [1,0,0,0,0,0],\n",
        "    [1,0,0,0,0,0],\n",
        "    [1,0,0,0,0,0],\n",
        "    [0,1,1,1,0,0]\n",
        "]).reshape(-1)\n",
        "\n",
        "# Labels: One-hot encoding for A, B, C\n",
        "y_map = {\"A\": [1,0,0], \"B\": [0,1,0], \"C\": [0,0,1]}\n",
        "\n",
        "# Training data (repeat patterns with small noise to simulate variation)\n",
        "def add_noise(img, noise_level=0.1):\n",
        "    noisy = img.copy()\n",
        "    flip = np.random.rand(len(img)) < noise_level\n",
        "    noisy[flip] = 1 - noisy[flip]\n",
        "    return noisy\n",
        "\n",
        "X, Y = [], []\n",
        "for letter, pattern in zip([\"A\",\"B\",\"C\"], [A,B,C]):\n",
        "    for _ in range(50):  # 50 noisy samples per letter\n",
        "        X.append(add_noise(pattern, noise_level=0.1))\n",
        "        Y.append(y_map[letter])\n",
        "\n",
        "X = np.array(X)\n",
        "Y = np.array(Y)\n",
        "\n",
        "print(\"Dataset shape:\", X.shape, Y.shape)\n"
      ],
      "metadata": {
        "colab": {
          "base_uri": "https://localhost:8080/"
        },
        "id": "1PQqGboZqREE",
        "outputId": "a7093b59-af4c-4322-d9e6-ffdf28fe0662"
      },
      "execution_count": 2,
      "outputs": [
        {
          "output_type": "stream",
          "name": "stdout",
          "text": [
            "Dataset shape: (150, 30) (150, 3)\n"
          ]
        }
      ]
    },
    {
      "cell_type": "code",
      "source": [
        "# Sigmoid function for hidden layer\n",
        "def sigmoid(x):\n",
        "    return 1 / (1 + np.exp(-x))\n",
        "\n",
        "# Derivative of sigmoid (needed in backpropagation)\n",
        "def sigmoid_derivative(x):\n",
        "    return x * (1 - x)\n",
        "\n",
        "# Softmax for output layer (multi-class classification)\n",
        "def softmax(x):\n",
        "    exp_x = np.exp(x - np.max(x, axis=1, keepdims=True))  # stability trick\n",
        "    return exp_x / np.sum(exp_x, axis=1, keepdims=True)\n"
      ],
      "metadata": {
        "id": "X3l4bWXtqTc3"
      },
      "execution_count": 3,
      "outputs": []
    },
    {
      "cell_type": "code",
      "source": [
        "# Define network architecture\n",
        "input_size = 30   # number of input neurons (pixels)\n",
        "hidden_size = 16  # hidden layer neurons\n",
        "output_size = 3   # output neurons (A, B, C)\n",
        "\n",
        "# Initialize weights and biases (small random numbers for symmetry breaking)\n",
        "np.random.seed(42)\n",
        "W1 = np.random.randn(input_size, hidden_size) * 0.01\n",
        "b1 = np.zeros((1, hidden_size))\n",
        "W2 = np.random.randn(hidden_size, output_size) * 0.01\n",
        "b2 = np.zeros((1, output_size))\n"
      ],
      "metadata": {
        "id": "dZgRjEJfqVYJ"
      },
      "execution_count": 4,
      "outputs": []
    },
    {
      "cell_type": "code",
      "source": [
        "# Training hyperparameters\n",
        "epochs = 2000\n",
        "lr = 0.1\n",
        "losses = []\n",
        "\n",
        "for epoch in range(epochs):\n",
        "    # ---- Forward pass ----\n",
        "    z1 = np.dot(X, W1) + b1     # input to hidden\n",
        "    a1 = sigmoid(z1)            # hidden layer activation\n",
        "    z2 = np.dot(a1, W2) + b2    # hidden to output\n",
        "    a2 = softmax(z2)            # final predictions\n",
        "\n",
        "    # ---- Loss calculation (cross-entropy) ----\n",
        "    loss = -np.mean(np.sum(Y * np.log(a2 + 1e-9), axis=1))\n",
        "    losses.append(loss)\n",
        "\n",
        "    # ---- Backpropagation ----\n",
        "    dz2 = a2 - Y                          # output error\n",
        "    dW2 = np.dot(a1.T, dz2) / X.shape[0]  # gradient for W2\n",
        "    db2 = np.sum(dz2, axis=0, keepdims=True) / X.shape[0]\n",
        "\n",
        "    dz1 = np.dot(dz2, W2.T) * sigmoid_derivative(a1)  # hidden error\n",
        "    dW1 = np.dot(X.T, dz1) / X.shape[0]              # gradient for W1\n",
        "    db1 = np.sum(dz1, axis=0, keepdims=True) / X.shape[0]\n",
        "\n",
        "    # ---- Update weights using gradient descent ----\n",
        "    W1 -= lr * dW1\n",
        "    b1 -= lr * db1\n",
        "    W2 -= lr * dW2\n",
        "    b2 -= lr * db2\n",
        "\n",
        "    # ---- Print training progress ----\n",
        "    if epoch % 200 == 0:\n",
        "        preds = np.argmax(a2, axis=1)\n",
        "        labels = np.argmax(Y, axis=1)\n",
        "        acc = np.mean(preds == labels)\n",
        "        print(f\"Epoch {epoch}, Loss: {loss:.4f}, Accuracy: {acc:.2f}\")\n"
      ],
      "metadata": {
        "colab": {
          "base_uri": "https://localhost:8080/"
        },
        "id": "r_6Hve_XqXbc",
        "outputId": "ea90864e-1533-42a0-d925-4028565e7b3c"
      },
      "execution_count": 5,
      "outputs": [
        {
          "output_type": "stream",
          "name": "stdout",
          "text": [
            "Epoch 0, Loss: 1.0991, Accuracy: 0.33\n",
            "Epoch 200, Loss: 1.0341, Accuracy: 1.00\n",
            "Epoch 400, Loss: 0.2013, Accuracy: 1.00\n",
            "Epoch 600, Loss: 0.0585, Accuracy: 1.00\n",
            "Epoch 800, Loss: 0.0315, Accuracy: 1.00\n",
            "Epoch 1000, Loss: 0.0210, Accuracy: 1.00\n",
            "Epoch 1200, Loss: 0.0156, Accuracy: 1.00\n",
            "Epoch 1400, Loss: 0.0123, Accuracy: 1.00\n",
            "Epoch 1600, Loss: 0.0101, Accuracy: 1.00\n",
            "Epoch 1800, Loss: 0.0085, Accuracy: 1.00\n"
          ]
        }
      ]
    },
    {
      "cell_type": "code",
      "source": [
        "# Visualize loss curve to check training progress\n",
        "plt.plot(losses)\n",
        "plt.xlabel(\"Epochs\")\n",
        "plt.ylabel(\"Loss\")\n",
        "plt.title(\"Training Loss Curve\")\n",
        "plt.show()\n"
      ],
      "metadata": {
        "colab": {
          "base_uri": "https://localhost:8080/",
          "height": 472
        },
        "id": "2_SxGaVRqZr4",
        "outputId": "00c8018d-c457-4810-b9ae-7204d2d3cfbb"
      },
      "execution_count": 6,
      "outputs": [
        {
          "output_type": "display_data",
          "data": {
            "text/plain": [
              "<Figure size 640x480 with 1 Axes>"
            ],
            "image/png": "[encoded data removed]"
          },
          "metadata": {}
        }
      ]
    },
    {
      "cell_type": "code",
      "source": [
        "# Function to predict and return class probabilities\n",
        "def predict(pattern):\n",
        "    z1 = np.dot(pattern, W1) + b1\n",
        "    a1 = sigmoid(z1)\n",
        "    z2 = np.dot(a1, W2) + b2\n",
        "    probs = softmax(z2)\n",
        "    return np.argmax(probs), probs\n",
        "\n",
        "# Test the model with clean A, B, C\n",
        "for letter, pattern in zip([\"A\",\"B\",\"C\"], [A,B,C]):\n",
        "    pred, probs = predict(pattern.reshape(1,-1))\n",
        "    print(f\"Input: {letter}, Predicted: {['A','B','C'][pred]}, Probabilities: {probs}\")\n",
        "    plot_letter(pattern, title=f\"True: {letter}, Predicted: {['A','B','C'][pred]}\")\n"
      ],
      "metadata": {
        "colab": {
          "base_uri": "https://localhost:8080/",
          "height": 1000
        },
        "id": "IUTO-zeGqbhN",
        "outputId": "436e9beb-0ea5-4df0-fa8c-135840410bbf"
      },
      "execution_count": 7,
      "outputs": [
        {
          "output_type": "stream",
          "name": "stdout",
          "text": [
            "Input: A, Predicted: A, Probabilities: [[9.98231042e-01 1.07965063e-03 6.89307503e-04]]\n"
          ]
        },
        {
          "output_type": "display_data",
          "data": {
            "text/plain": [
              "<Figure size 640x480 with 1 Axes>"
            ],
            "image/png": "[encoded data removed]"
          },
          "metadata": {}
        },
        {
          "output_type": "stream",
          "name": "stdout",
          "text": [
            "Input: B, Predicted: B, Probabilities: [[7.85672301e-04 9.97806396e-01 1.40793148e-03]]\n"
          ]
        },
        {
          "output_type": "display_data",
          "data": {
            "text/plain": [
              "<Figure size 640x480 with 1 Axes>"
            ],
            "image/png": "[encoded data removed]"
          },
          "metadata": {}
        },
        {
          "output_type": "stream",
          "name": "stdout",
          "text": [
            "Input: C, Predicted: C, Probabilities: [[4.37263095e-04 7.51848334e-04 9.98810889e-01]]\n"
          ]
        },
        {
          "output_type": "display_data",
          "data": {
            "text/plain": [
              "<Figure size 640x480 with 1 Axes>"
            ],
            "image/png": "[encoded data removed]"
          },
          "metadata": {}
        }
      ]
    },
    {
      "cell_type": "markdown",
      "source": [
        "### Conclusion  \n",
        "\n",
        "In this project, we successfully implemented a **neural network from scratch** using only NumPy.  \n",
        "We created synthetic image data for letters **A, B, and C** in a 5×6 binary pixel grid and used them to train our feedforward network.  \n",
        "\n",
        "Key takeaways from this project:  \n",
        "- We understood how to represent images as **numerical arrays (vectors)** that a neural network can process.  \n",
        "- Implemented a **two-layer neural network** with sigmoid activation functions, trained via **backpropagation**.  \n",
        "- Learned how weights and biases are updated step by step using **gradient descent**.  \n",
        "- Visualized the **loss curve** to confirm that the model improves its accuracy over epochs.  \n",
        "- Finally, we tested the network on letter inputs, and it was able to correctly classify them as **A, B, or C**.  \n",
        "\n",
        "This project gave us a clear understanding of the **building blocks of deep learning** without relying on external libraries like TensorFlow or PyTorch. It highlighted the importance of matrix operations, activation functions, and loss optimization in neural networks.  \n",
        "\n",
        "🚀 With this foundation, we are now ready to move towards more complex datasets and libraries for real-world deep learning applications.\n"
      ],
      "metadata": {
        "id": "IsqvGdPsrRaf"
      }
    }
  ]
}